{
 "cells": [
  {
   "cell_type": "code",
   "execution_count": null,
   "metadata": {},
   "outputs": [],
   "source": [
    "# Variables\n",
    "# Variables are assigned values using the equal sign. \n",
    "# The assignment operator is NOT the same as an equal sign in mathematics.\n",
    "# Let's look at an example. Suppose we assign 7 to x:\n",
    "\n",
    "x = 7\n",
    "\n",
    "# And then we use the following expression:\n",
    "\n",
    "x = x + 3\n",
    "\n",
    "# In mathematics, we would substitute in the value for x, in this case 7, and the result would be\n",
    "# 7 = 10 which is a mathematically invalid equation.  However, in Python, this statement means substitute\n",
    "# the value in for x, add that number to 3 and assign the result to x.  So, x = 7 + 3 = 10\n",
    "\n",
    "print('The value in memory that the variable x is pointing to is:', x)"
   ]
  },
  {
   "cell_type": "code",
   "execution_count": null,
   "metadata": {},
   "outputs": [],
   "source": [
    "# Varibles can be both mutable, the value that the varible is pointing to in memory CAN be changed, or\n",
    "# immutable, the value that the variable is pointing to in memory CANNOT be changed.\n",
    "# Integers are immutable.\n",
    "# Suppose we have the following variables and assignments:\n",
    "\n",
    "a = 5\n",
    "b = a\n",
    "c = b\n",
    "\n",
    "# and now print the value of all the variables:\n",
    "\n",
    "print('a is:',a)\n",
    "print('b is:',b)\n",
    "print('c is:',c)"
   ]
  },
  {
   "cell_type": "code",
   "execution_count": null,
   "metadata": {},
   "outputs": [],
   "source": [
    "# Now assign a different value to b:\n",
    "\n",
    "b = 10\n",
    "\n",
    "# What are the values of a, b, and c now?  Remember that b CANNOT be changed so it must point to another place in memory\n",
    "# with a different value, but a, and c are still pointing to the same memory address:\n",
    "\n",
    "print('a is:',a)\n",
    "print('b is:',b)\n",
    "print('c is:',c)"
   ]
  },
  {
   "cell_type": "code",
   "execution_count": null,
   "metadata": {},
   "outputs": [],
   "source": [
    "# Lists are mutable\n",
    "# Suppose we have the following lists:\n",
    "\n",
    "a = [1,5,10]\n",
    "b = a \n",
    "c = b\n",
    "\n",
    "# and now print the value of all the lists:\n",
    "\n",
    "print('List a is:',a)\n",
    "print('List b is:',b)\n",
    "print('List c is:',c)"
   ]
  },
  {
   "cell_type": "code",
   "execution_count": null,
   "metadata": {},
   "outputs": [],
   "source": [
    "# Now assign a different value to one of the elements in b:\n",
    "\n",
    "b[1] = 20\n",
    "\n",
    "# What are the values of the lists a, b, and c now?  All of the lists are pointing to the same location in memory and lists\n",
    "# values in memory can be changed. Therefore, the change in the 2nd value of b will result in the 2nd value changing in list a and\n",
    "# list c as well. \n",
    "\n",
    "print('List a is:',a)\n",
    "print('List b is:',b)\n",
    "print('List c is:',c)"
   ]
  }
 ],
 "metadata": {
  "kernelspec": {
   "display_name": "Python 3",
   "language": "python",
   "name": "python3"
  },
  "language_info": {
   "codemirror_mode": {
    "name": "ipython",
    "version": 3
   },
   "file_extension": ".py",
   "mimetype": "text/x-python",
   "name": "python",
   "nbconvert_exporter": "python",
   "pygments_lexer": "ipython3",
   "version": "3.7.6"
  }
 },
 "nbformat": 4,
 "nbformat_minor": 4
}
