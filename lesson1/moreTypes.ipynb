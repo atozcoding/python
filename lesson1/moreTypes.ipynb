{
 "cells": [
  {
   "cell_type": "code",
   "execution_count": 1,
   "metadata": {},
   "outputs": [
    {
     "name": "stdout",
     "output_type": "stream",
     "text": [
      "John Smith\n",
      "25\n",
      "Hello everyone. \n",
      "This is John Smith. \n",
      "Have a great day!\n"
     ]
    }
   ],
   "source": [
    "#Strings\n",
    "name = \"John Smith\"\n",
    "age = \"25\"\n",
    "\n",
    "#Strings on multiple lines\n",
    "statement = '''Hello everyone. \n",
    "This is John Smith. \n",
    "Have a great day!'''\n",
    "\n",
    "print(name)\n",
    "print(age)\n",
    "print(statement)"
   ]
  },
  {
   "cell_type": "code",
   "execution_count": 2,
   "metadata": {},
   "outputs": [
    {
     "name": "stdout",
     "output_type": "stream",
     "text": [
      "Hello everyone!\n"
     ]
    }
   ],
   "source": [
    "# Concatenate strings\n",
    "string1 = \"Hello\"\n",
    "string2 = \"everyone!\"\n",
    "statement = string1 + ' ' + string2\n",
    "print(statement)"
   ]
  },
  {
   "cell_type": "code",
   "execution_count": 3,
   "metadata": {},
   "outputs": [
    {
     "name": "stdout",
     "output_type": "stream",
     "text": [
      "('John', 'Tom')\n",
      "(25, 30)\n",
      "('John', 'Tom', 25, 30)\n"
     ]
    }
   ],
   "source": [
    "# Tuples\n",
    "name_tuple = ('John', 'Tom')\n",
    "age_tuple = (25, 30)\n",
    "name_and_age_tuple = ('John', 'Tom', 25, 30)\n",
    "print(name_tuple)\n",
    "print(age_tuple)\n",
    "print(name_and_age_tuple)"
   ]
  },
  {
   "cell_type": "code",
   "execution_count": 4,
   "metadata": {},
   "outputs": [
    {
     "ename": "TypeError",
     "evalue": "'tuple' object does not support item assignment",
     "output_type": "error",
     "traceback": [
      "\u001b[0;31m---------------------------------------------------------------------------\u001b[0m",
      "\u001b[0;31mTypeError\u001b[0m                                 Traceback (most recent call last)",
      "\u001b[0;32m<ipython-input-4-ba8108dae385>\u001b[0m in \u001b[0;36m<module>\u001b[0;34m\u001b[0m\n\u001b[1;32m      1\u001b[0m \u001b[0;31m# Tuples are immutable\u001b[0m\u001b[0;34m\u001b[0m\u001b[0;34m\u001b[0m\u001b[0;34m\u001b[0m\u001b[0m\n\u001b[0;32m----> 2\u001b[0;31m \u001b[0mname_tuple\u001b[0m\u001b[0;34m[\u001b[0m\u001b[0;36m1\u001b[0m\u001b[0;34m]\u001b[0m \u001b[0;34m=\u001b[0m \u001b[0;34m'Bob'\u001b[0m\u001b[0;34m\u001b[0m\u001b[0;34m\u001b[0m\u001b[0m\n\u001b[0m",
      "\u001b[0;31mTypeError\u001b[0m: 'tuple' object does not support item assignment"
     ]
    }
   ],
   "source": [
    "# Tuples are immutable\n",
    "name_tuple[1] = 'Bob'"
   ]
  },
  {
   "cell_type": "code",
   "execution_count": 5,
   "metadata": {},
   "outputs": [
    {
     "name": "stdout",
     "output_type": "stream",
     "text": [
      "['John', 'Tom']\n",
      "[25, 30]\n",
      "['John', 'Tom', 25, 30]\n"
     ]
    }
   ],
   "source": [
    "#Lists\n",
    "name_list = ['John', 'Tom']\n",
    "age_list = [25, 30]\n",
    "name_and_age_list = ['John', 'Tom', 25, 30]\n",
    "print(name_list)\n",
    "print(age_list)\n",
    "print(name_and_age_list)"
   ]
  },
  {
   "cell_type": "code",
   "execution_count": null,
   "metadata": {},
   "outputs": [],
   "source": [
    "#Lists are mutable\n",
    "name_list[1] = 'Bob'\n",
    "print(name_list)"
   ]
  },
  {
   "cell_type": "code",
   "execution_count": null,
   "metadata": {},
   "outputs": [],
   "source": [
    "#Dictionaries\n",
    "person = {'name': 'John Smith', 'age': 25}\n",
    "print(\"The person's name is: \" + person['name'] + \" and their age is:\", person['age'])"
   ]
  },
  {
   "cell_type": "code",
   "execution_count": null,
   "metadata": {},
   "outputs": [],
   "source": [
    "#Dictionaries are mutable\n",
    "person['age'] = 30\n",
    "print(\"The person's name is: \" + person['name'] + \" and their age is:\", person['age'])"
   ]
  },
  {
   "cell_type": "code",
   "execution_count": null,
   "metadata": {},
   "outputs": [],
   "source": [
    "#Casting: converting a variable of one type to another\n",
    "num1_as_string = '2'\n",
    "num2 = 5\n",
    "print(type(num1_as_string))\n",
    "print(type(num2))\n",
    "summation = num1_as_string + num2"
   ]
  },
  {
   "cell_type": "code",
   "execution_count": null,
   "metadata": {},
   "outputs": [],
   "source": [
    "print(type(int(num1_as_string)))\n",
    "\n",
    "summation = int(num1_as_string) + num2\n",
    "print(summation)"
   ]
  }
 ],
 "metadata": {
  "kernelspec": {
   "display_name": "Python 3",
   "language": "python",
   "name": "python3"
  },
  "language_info": {
   "codemirror_mode": {
    "name": "ipython",
    "version": 3
   },
   "file_extension": ".py",
   "mimetype": "text/x-python",
   "name": "python",
   "nbconvert_exporter": "python",
   "pygments_lexer": "ipython3",
   "version": "3.7.6"
  }
 },
 "nbformat": 4,
 "nbformat_minor": 4
}
