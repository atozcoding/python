{
 "cells": [
  {
   "cell_type": "code",
   "execution_count": null,
   "metadata": {},
   "outputs": [],
   "source": [
    "#Strings\n",
    "name = \"John Smith\"\n",
    "age = \"25\"\n",
    "\n",
    "#Strings on multiple lines\n",
    "statement = '''Hello everyone. \n",
    "This is John Smith. \n",
    "Have a great day!'''\n",
    "\n",
    "print(name)\n",
    "print(age)\n",
    "print(statement)"
   ]
  },
  {
   "cell_type": "code",
   "execution_count": null,
   "metadata": {},
   "outputs": [],
   "source": [
    "# Concatenate strings\n",
    "string1 = \"Hello\"\n",
    "string2 = \"everyone!\"\n",
    "statement = string1 + ' ' + string2\n",
    "print(statement)"
   ]
  },
  {
   "cell_type": "code",
   "execution_count": null,
   "metadata": {},
   "outputs": [],
   "source": [
    "# Tuples\n",
    "name_tuple = ('John', 'Tom')\n",
    "age_tuple = (25, 30)\n",
    "name_and_age_tuple = ('John', 'Tom', 25, 30)\n",
    "print(name_tuple)\n",
    "print(age_tuple)\n",
    "print(name_and_age_tuple)"
   ]
  },
  {
   "cell_type": "code",
   "execution_count": null,
   "metadata": {},
   "outputs": [],
   "source": [
    "# Tuples are immutable\n",
    "name_tuple[1] = 'Bob'"
   ]
  },
  {
   "cell_type": "code",
   "execution_count": null,
   "metadata": {},
   "outputs": [],
   "source": [
    "#Lists\n",
    "name_list = ['John', 'Tom']\n",
    "age_list = [25, 30]\n",
    "name_and_age_list = ['John', 'Tom', 25, 30]\n",
    "print(name_list)\n",
    "print(age_list)\n",
    "print(name_and_age_list)"
   ]
  },
  {
   "cell_type": "code",
   "execution_count": null,
   "metadata": {},
   "outputs": [],
   "source": [
    "#Lists are mutable\n",
    "name_list[1] = 'Bob'\n",
    "print(name_list)"
   ]
  },
  {
   "cell_type": "code",
   "execution_count": null,
   "metadata": {},
   "outputs": [],
   "source": [
    "#Dictionaries\n",
    "person = {'name': 'John Smith', 'age': 25}\n",
    "print(\"The person's name is: \" + person['name'] + \" and their age is:\", person['age'])"
   ]
  },
  {
   "cell_type": "code",
   "execution_count": null,
   "metadata": {},
   "outputs": [],
   "source": [
    "#Dictionaries are mutable\n",
    "person['age'] = 30\n",
    "print(\"The person's name is: \" + person['name'] + \" and their age is:\", person['age'])"
   ]
  },
  {
   "cell_type": "code",
   "execution_count": null,
   "metadata": {},
   "outputs": [],
   "source": [
    "#Casting: converting a variable of one type to another\n",
    "num1_as_string = '2'\n",
    "num2 = 5\n",
    "print(type(num1_as_string))\n",
    "print(type(num2))\n",
    "summation = num1_as_string + num2"
   ]
  },
  {
   "cell_type": "code",
   "execution_count": null,
   "metadata": {},
   "outputs": [],
   "source": [
    "print(type(int(num1_as_string)))\n",
    "\n",
    "summation = int(num1_as_string) + num2\n",
    "print(summation)"
   ]
  }
 ],
 "metadata": {
  "kernelspec": {
   "display_name": "Python 3",
   "language": "python",
   "name": "python3"
  },
  "language_info": {
   "codemirror_mode": {
    "name": "ipython",
    "version": 3
   },
   "file_extension": ".py",
   "mimetype": "text/x-python",
   "name": "python",
   "nbconvert_exporter": "python",
   "pygments_lexer": "ipython3",
   "version": "3.7.6"
  }
 },
 "nbformat": 4,
 "nbformat_minor": 4
}
