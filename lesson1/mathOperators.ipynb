{
 "cells": [
  {
   "cell_type": "code",
   "execution_count": null,
   "metadata": {},
   "outputs": [],
   "source": [
    "# Mathematical operators\n",
    "# Addition\n",
    "num1 = 2\n",
    "num2 = 3\n",
    "total = num1 + num2 \n",
    "print('The sum of num1 and num2 is:', total)"
   ]
  },
  {
   "cell_type": "code",
   "execution_count": null,
   "metadata": {},
   "outputs": [],
   "source": [
    "# Subtraction\n",
    "num1 = 7 \n",
    "num2 = 5\n",
    "difference = num1 - num2 \n",
    "print('num1 subtracted from num2 is:', difference)"
   ]
  },
  {
   "cell_type": "code",
   "execution_count": null,
   "metadata": {},
   "outputs": [],
   "source": [
    "# Multiplication\n",
    "num1 = 7\n",
    "num2 = 8\n",
    "product = num1 * num2\n",
    "print('num1 multiplied by num2 is', product)"
   ]
  },
  {
   "cell_type": "code",
   "execution_count": null,
   "metadata": {},
   "outputs": [],
   "source": [
    "# Division\n",
    "num1 = 23\n",
    "num2 = 7\n",
    "quotient = num1 / num2\n",
    "print('num1 divide by num2 is', quotient)"
   ]
  },
  {
   "cell_type": "code",
   "execution_count": null,
   "metadata": {},
   "outputs": [],
   "source": [
    "# Floor Division\n",
    "num1 = 23\n",
    "num2 = 7\n",
    "floor = num1 // num2\n",
    "print('num1 divide by num2 is', floor)"
   ]
  },
  {
   "cell_type": "code",
   "execution_count": null,
   "metadata": {},
   "outputs": [],
   "source": [
    "# Modulus, remainder \n",
    "num1 = 23\n",
    "num2 = 7\n",
    "remainder = num1 % num2\n",
    "print('The remainder of 25/7 is:', remainder)"
   ]
  },
  {
   "cell_type": "code",
   "execution_count": null,
   "metadata": {},
   "outputs": [],
   "source": [
    "# Exponents\n",
    "num1 = 2\n",
    "num2 = 10\n",
    "exponents = 2 ** 10\n",
    "print('2 to the 10th power is:', exponents)"
   ]
  },
  {
   "cell_type": "code",
   "execution_count": null,
   "metadata": {},
   "outputs": [],
   "source": [
    "# Order of operations\n",
    "result = (2 + 2) ** 2/2 * 5 + 3 - 2\n",
    "print(result)"
   ]
  },
  {
   "cell_type": "code",
   "execution_count": null,
   "metadata": {},
   "outputs": [],
   "source": []
  }
 ],
 "metadata": {
  "kernelspec": {
   "display_name": "Python 3",
   "language": "python",
   "name": "python3"
  },
  "language_info": {
   "codemirror_mode": {
    "name": "ipython",
    "version": 3
   },
   "file_extension": ".py",
   "mimetype": "text/x-python",
   "name": "python",
   "nbconvert_exporter": "python",
   "pygments_lexer": "ipython3",
   "version": "3.7.6"
  }
 },
 "nbformat": 4,
 "nbformat_minor": 4
}
